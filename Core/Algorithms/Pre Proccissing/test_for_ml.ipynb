{
 "cells": [
  {
   "cell_type": "markdown",
   "id": "35ec4bce",
   "metadata": {},
   "source": [
    "# import library \n",
    "\n",
    "\n"
   ]
  },
  {
   "cell_type": "code",
   "execution_count": null,
   "id": "da050f2b",
   "metadata": {},
   "outputs": [],
   "source": [
    "import data_loader \n",
    "from data_cleaning import KNNImputer,SimpleImputer,Iterativeimputer\n",
    "\n",
    "\n"
   ]
  },
  {
   "cell_type": "markdown",
   "id": "9d7524ad",
   "metadata": {},
   "source": [
    "# load data set\n"
   ]
  },
  {
   "cell_type": "code",
   "execution_count": null,
   "id": "4de61af6",
   "metadata": {},
   "outputs": [],
   "source": [
    "data_set=data_loader.load_dataset(r\"C:\\Users\\Eng^ M.Alaa^\\Dropbox\\Ml-Algorithms-Hub\\Core\\Dataset\\xAPI-Edu-Data.csv\")"
   ]
  },
  {
   "cell_type": "code",
   "execution_count": null,
   "id": "9675980d",
   "metadata": {},
   "outputs": [],
   "source": [
    "data_set.head()"
   ]
  },
  {
   "cell_type": "code",
   "execution_count": null,
   "id": "86cf1974",
   "metadata": {},
   "outputs": [],
   "source": [
    "data_set.isna().sum()"
   ]
  }
 ],
 "metadata": {
  "kernelspec": {
   "display_name": "Python 3",
   "language": "python",
   "name": "python3"
  },
  "language_info": {
   "codemirror_mode": {
    "name": "ipython",
    "version": 3
   },
   "file_extension": ".py",
   "mimetype": "text/x-python",
   "name": "python",
   "nbconvert_exporter": "python",
   "pygments_lexer": "ipython3",
   "version": "3.12.4"
  }
 },
 "nbformat": 4,
 "nbformat_minor": 5
}
